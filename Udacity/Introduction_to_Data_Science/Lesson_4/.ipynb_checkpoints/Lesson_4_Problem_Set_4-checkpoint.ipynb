{
 "cells": [
  {
   "cell_type": "code",
   "execution_count": 8,
   "metadata": {
    "collapsed": false
   },
   "outputs": [],
   "source": [
    "from pandas import *\n",
    "from ggplot import *\n",
    "\n",
    "import pandas\n",
    "\n",
    "def lineplot(hr_year_csv):\n",
    "    # A csv file will be passed in as an argument which\n",
    "    # contains two columns -- 'HR' (the number of homerun hits)\n",
    "    # and 'yearID' (the year in which the homeruns were hit).\n",
    "    #\n",
    "    # Fill out the body of this function, lineplot, to use the\n",
    "    # passed-in csv file, hr_year.csv, and create a\n",
    "    # chart with points connected by lines, both colored 'red',\n",
    "    # showing the number of HR by year.\n",
    "    #\n",
    "    # You will want to first load the csv file into a pandas dataframe\n",
    "    # and use the pandas dataframe along with ggplot to create your visualization\n",
    "    #\n",
    "    # You can check out the data in the csv file at the link below:\n",
    "    # https://www.dropbox.com/s/awgdal71hc1u06d/hr_year.csv\n",
    "    #\n",
    "    # You can read more about ggplot at the following link:\n",
    "    # https://github.com/yhat/ggplot/\n",
    "    \n",
    "    df = pandas.read_csv(hr_year_csv)\n",
    "    return ggplot(df, aes('yearID', 'HR'))+geom_point(color='red')+geom_line(color='red')+ggtitle(\"Total HR by Year\")+ xlab('year')+ylab('HR')\n"
   ]
  },
  {
   "cell_type": "code",
   "execution_count": 9,
   "metadata": {
    "collapsed": true
   },
   "outputs": [],
   "source": [
    "\n",
    "import pandas\n",
    "\n",
    "from ggplot import *\n",
    "\n",
    "\n",
    "def lineplot_compare(hr_by_team_year_sf_la_csv):\n",
    "    # Write a function, lineplot_compare, that will read a csv file\n",
    "    # called hr_by_team_year_sf_la.csv and plot it using pandas and ggplot.\n",
    "    #\n",
    "    # This csv file has three columns: yearID, HR, and teamID. The data in the\n",
    "    # file gives the total number of home runs hit each year by the SF Giants \n",
    "    # (teamID == 'SFN') and the LA Dodgers (teamID == \"LAN\"). Produce a \n",
    "    # visualization comparing the total home runs by year of the two teams. \n",
    "    # \n",
    "    # You can see the data in hr_by_team_year_sf_la_csv\n",
    "    # at the link below:\n",
    "    # https://www.dropbox.com/s/wn43cngo2wdle2b/hr_by_team_year_sf_la.csv\n",
    "    #\n",
    "    # Note that to differentiate between multiple categories on the \n",
    "    # same plot in ggplot, we can pass color in with the other arguments\n",
    "    # to aes, rather than in our geometry functions. For example, \n",
    "    # ggplot(data, aes(xvar, yvar, color=category_var)). This should help you \n",
    "    # in this exercise.\n",
    "    \n",
    "       \n",
    "    df = pandas.read_csv(hr_by_team_year_sf_la_csv)\n",
    "       \n",
    "    return ggplot(df, aes('yearID', 'HR', color='teamID'))+geom_point(color='red')+geom_line(color='red')+ggtitle(\"Total HR by Year\")+ xlab('year')+ylab('HR')\n"
   ]
  },
  {
   "cell_type": "markdown",
   "metadata": {},
   "source": [
    "## Problem Set 4"
   ]
  },
  {
   "cell_type": "code",
   "execution_count": 11,
   "metadata": {
    "collapsed": true
   },
   "outputs": [],
   "source": [
    "from pandas import *\n",
    "from ggplot import *\n",
    "\n",
    "def plot_weather_data(turnstile_weather):\n",
    "    '''\n",
    "    You are passed in a dataframe called turnstile_weather. \n",
    "    Use turnstile_weather along with ggplot to make a data visualization\n",
    "    focused on the MTA and weather data we used in assignment #3.  \n",
    "    You should feel free to implement something that we discussed in class \n",
    "    (e.g., scatterplots, line plots, or histograms) or attempt to implement\n",
    "    something more advanced if you'd like.  \n",
    "\n",
    "    Here are some suggestions for things to investigate and illustrate:\n",
    "     * Ridership by time of day or day of week\n",
    "     * How ridership varies based on Subway station (UNIT)\n",
    "     * Which stations have more exits or entries at different times of day\n",
    "       (You can use UNIT as a proxy for subway station.)\n",
    "\n",
    "    If you'd like to learn more about ggplot and its capabilities, take\n",
    "    a look at the documentation at:\n",
    "    https://pypi.python.org/pypi/ggplot/\n",
    "     \n",
    "    You can check out:\n",
    "    https://www.dropbox.com/s/meyki2wl9xfa7yk/turnstile_data_master_with_weather.csv\n",
    "     \n",
    "    To see all the columns and data points included in the turnstile_weather \n",
    "    dataframe. \n",
    "     \n",
    "    However, due to the limitation of our Amazon EC2 server, we are giving you a random\n",
    "    subset, about 1/3 of the actual data in the turnstile_weather dataframe.\n",
    "    '''\n",
    "    plot = ggplot(turnstile_weather, aes('ENTRIESn_hourly', fill='rain')) + geom_bar(binwidth=100) + xlim(low=0, high=5000) + \\\n",
    "    xlab(\"Hourly Entries - Bins of Size 100\") + \\\n",
    "    ylab(\"Hourly Entries - Count in each bin\") + \\\n",
    "    ggtitle(\"Hourly Entries Histogram - Rain vs. No Rain (Stacked)\") \n",
    "    \n",
    "    return plot\n"
   ]
  },
  {
   "cell_type": "code",
   "execution_count": 12,
   "metadata": {
    "collapsed": true
   },
   "outputs": [],
   "source": [
    "from pandas import *\n",
    "\n",
    "    ## \"The server encountered an error. Please try running again.\" encountered a lot.\n",
    "    ## ggplot for python is missing many features. Only basic plots shown for inbrowser exercises.\n",
    "\n",
    "def plot_weather_data(turnstile_weather):\n",
    "    '''\n",
    "    plot_weather_data is passed a dataframe called turnstile_weather. \n",
    "    Use turnstile_weather along with ggplot to make a data visualization\n",
    "    focused on the MTA and weather data we used in Project 3.\n",
    "    \n",
    "    You should feel free to implement something that we discussed in class \n",
    "    (e.g., scatterplots, line plots, or histograms) or attempt to implement\n",
    "    something more advanced if you'd like.\n",
    "    Here are some suggestions for things to investigate and illustrate:\n",
    "     * Ridership by time-of-day or day-of-week\n",
    "     * How ridership varies by subway station\n",
    "     * Which stations have more exits or entries at different times of day\n",
    "    If you'd like to learn more about ggplot and its capabilities, take\n",
    "    a look at the documentation at:\n",
    "    https://pypi.python.org/pypi/ggplot/\n",
    "     \n",
    "    You can check out the link \n",
    "    https://www.dropbox.com/s/meyki2wl9xfa7yk/turnstile_data_master_with_weather.csv\n",
    "    to see all the columns and data points included in the turnstile_weather \n",
    "    dataframe.\n",
    "     \n",
    "    However, due to the limitation of our Amazon EC2 server, we will give you only \n",
    "    about 1/3 of the actual data in the turnstile_weather dataframe.\n",
    "    '''\n",
    "       \n",
    "    ## Q. 4.2\n",
    "    plot2 = ggplot(weather_data, aes('Hour', 'ENTRIESn_hourly', fill='rain')) + geom_bar() + \\\n",
    "        xlab(\"Hour of the day\") + ggtitle(\"Distribution of ridership throughout the day - Rain (Blue) / No Rain (Red)\") + ylab(\"Entries\")    \n",
    "    \n",
    "    return plot, plot2\n",
    "    "
   ]
  },
  {
   "cell_type": "code",
   "execution_count": null,
   "metadata": {
    "collapsed": true
   },
   "outputs": [],
   "source": []
  }
 ],
 "metadata": {
  "kernelspec": {
   "display_name": "Python 2",
   "language": "python",
   "name": "python2"
  },
  "language_info": {
   "codemirror_mode": {
    "name": "ipython",
    "version": 2
   },
   "file_extension": ".py",
   "mimetype": "text/x-python",
   "name": "python",
   "nbconvert_exporter": "python",
   "pygments_lexer": "ipython2",
   "version": "2.7.11"
  }
 },
 "nbformat": 4,
 "nbformat_minor": 0
}
