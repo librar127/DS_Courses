{
 "cells": [
  {
   "cell_type": "markdown",
   "metadata": {},
   "source": [
    "** Simple Heuristic **"
   ]
  },
  {
   "cell_type": "code",
   "execution_count": 5,
   "metadata": {
    "collapsed": true
   },
   "outputs": [],
   "source": [
    "import numpy\n",
    "import pandas\n",
    "import statsmodels.api as sm\n",
    "\n",
    "def simple_heuristic(file_path):\n",
    "    '''\n",
    "    In this exercise, we will perform some rudimentary practices similar to those of\n",
    "    an actual data scientist.\n",
    "    \n",
    "    Part of a data scientist's job is to use her or his intuition and insight to\n",
    "    write algorithms and heuristics. A data scientist also creates mathematical models \n",
    "    to make predictions based on some attributes from the data that they are examining.\n",
    "\n",
    "    We would like for you to take your knowledge and intuition about the Titanic\n",
    "    and its passengers' attributes to predict whether or not the passengers survived\n",
    "    or perished. You can read more about the Titanic and specifics about this dataset at:\n",
    "    http://en.wikipedia.org/wiki/RMS_Titanic\n",
    "    http://www.kaggle.com/c/titanic-gettingStarted\n",
    "        \n",
    "    In this exercise and the following ones, you are given a list of Titantic passengers\n",
    "    and their associated information. More information about the data can be seen at the \n",
    "    link below:\n",
    "    http://www.kaggle.com/c/titanic-gettingStarted/data. \n",
    "\n",
    "    For this exercise, you need to write a simple heuristic that will use\n",
    "    the passengers' gender to predict if that person survived the Titanic disaster.\n",
    "    \n",
    "    You prediction should be 78% accurate or higher.\n",
    "        \n",
    "    Here's a simple heuristic to start off:\n",
    "       1) If the passenger is female, your heuristic should assume that the\n",
    "       passenger survived.\n",
    "       2) If the passenger is male, you heuristic should\n",
    "       assume that the passenger did not survive.\n",
    "    \n",
    "    You can access the gender of a passenger via passenger['Sex'].\n",
    "    If the passenger is male, passenger['Sex'] will return a string \"male\".\n",
    "    If the passenger is female, passenger['Sex'] will return a string \"female\".\n",
    "\n",
    "    Write your prediction back into the \"predictions\" dictionary. The\n",
    "    key of the dictionary should be the passenger's id (which can be accessed\n",
    "    via passenger[\"PassengerId\"]) and the associated value should be 1 if the\n",
    "    passenger survied or 0 otherwise.\n",
    "\n",
    "    For example, if a passenger is predicted to have survived:\n",
    "    passenger_id = passenger['PassengerId']\n",
    "    predictions[passenger_id] = 1\n",
    "\n",
    "    And if a passenger is predicted to have perished in the disaster:\n",
    "    passenger_id = passenger['PassengerId']\n",
    "    predictions[passenger_id] = 0\n",
    "    \n",
    "    You can also look at the Titantic data that you will be working with\n",
    "    at the link below:\n",
    "    https://www.dropbox.com/s/r5f9aos8p9ri9sa/titanic_data.csv\n",
    "    '''\n",
    "\n",
    "    predictions = {}\n",
    "    df = pandas.read_csv(file_path)\n",
    "    for passenger_index, passenger in df.iterrows():\n",
    "        passenger_id = passenger['PassengerId']\n",
    "      \n",
    "        # Your code here:\n",
    "        # For example, let's assume that if the passenger\n",
    "        # is a male, then the passenger survived.\n",
    "        if passenger['Sex'] == 'male':\n",
    "            predictions[passenger_id] = 0\n",
    "        else:\n",
    "            predictions[passenger_id] = 1   \n",
    "                \n",
    "    return predictions\n"
   ]
  },
  {
   "cell_type": "code",
   "execution_count": 24,
   "metadata": {
    "collapsed": false
   },
   "outputs": [],
   "source": [
    "file_path = \"train.csv\"\n",
    "#simple_heuristic(file_path)"
   ]
  },
  {
   "cell_type": "markdown",
   "metadata": {},
   "source": [
    "** complex_heuristic **"
   ]
  },
  {
   "cell_type": "code",
   "execution_count": 25,
   "metadata": {
    "collapsed": false
   },
   "outputs": [],
   "source": [
    "import numpy\n",
    "import pandas\n",
    "import statsmodels.api as sm\n",
    "\n",
    "def complex_heuristic(file_path):\n",
    "    '''\n",
    "    You are given a list of Titantic passengers and their associated\n",
    "    information. More information about the data can be seen at the link below:\n",
    "    http://www.kaggle.com/c/titanic-gettingStarted/data\n",
    "\n",
    "    For this exercise, you need to write a more sophisticated algorithm\n",
    "    that will use the passengers' gender and their socioeconomical class and age \n",
    "    to predict if they survived the Titanic diaster. \n",
    "    \n",
    "    You prediction should be 79% accurate or higher.\n",
    "    \n",
    "    Here's the algorithm, predict the passenger survived if:\n",
    "    1) If the passenger is female or\n",
    "    2) if his/her socioeconomic status is high AND if the passenger is under 18\n",
    "    \n",
    "    Otherwise, your algorithm should predict that the passenger perished in the disaster.\n",
    "    \n",
    "    Or more specifically in terms of coding:\n",
    "    female or (high status and under 18)\n",
    "    \n",
    "    You can access the gender of a passenger via passenger['Sex'].\n",
    "    If the passenger is male, passenger['Sex'] will return a string \"male\".\n",
    "    If the passenger is female, passenger['Sex'] will return a string \"female\".\n",
    "    \n",
    "    You can access the socioeconomic status of a passenger via passenger['Pclass']:\n",
    "    High socioeconomic status -- passenger['Pclass'] is 1\n",
    "    Medium socioeconomic status -- passenger['Pclass'] is 2\n",
    "    Low socioeconomic status -- passenger['Pclass'] is 3\n",
    "\n",
    "    You can access the age of a passenger via passenger['Age'].\n",
    "    \n",
    "    Write your prediction back into the \"predictions\" dictionary. The\n",
    "    key of the dictionary should be the Passenger's id (which can be accessed\n",
    "    via passenger[\"PassengerId\"]) and the associated value should be 1 if the\n",
    "    passenger survived or 0 otherwise. \n",
    "\n",
    "    For example, if a passenger is predicted to have survived:\n",
    "    passenger_id = passenger['PassengerId']\n",
    "    predictions[passenger_id] = 1\n",
    "\n",
    "    And if a passenger is predicted to have perished in the disaster:\n",
    "    passenger_id = passenger['PassengerId']\n",
    "    predictions[passenger_id] = 0\n",
    "    \n",
    "    You can also look at the Titantic data that you will be working with\n",
    "    at the link below:\n",
    "    https://www.dropbox.com/s/r5f9aos8p9ri9sa/titanic_data.csv\n",
    "    '''\n",
    "\n",
    "    predictions = {}\n",
    "    df = pandas.read_csv(file_path)\n",
    "    for passenger_index, passenger in df.iterrows():\n",
    "        passenger_id = passenger['PassengerId']\n",
    "        # \n",
    "        # your code here\n",
    "        # for example, assuming that passengers who are male\n",
    "        # and older than 18 surived:\n",
    "        #     if passenger['Sex'] == 'male' or passenger['Age'] < 18:\n",
    "        #         predictions[passenger_id] = 1\n",
    "        # \n",
    "        \n",
    "        if ((passenger['Sex'] == 'female') or ((passenger['Pclass'] == 1) and (passenger['Age'] < 18))):\n",
    "            predictions[passenger_id] = 1\n",
    "        else:\n",
    "            predictions[passenger_id] = 0\n",
    "        \n",
    "    return predictions\n"
   ]
  },
  {
   "cell_type": "code",
   "execution_count": 27,
   "metadata": {
    "collapsed": false
   },
   "outputs": [],
   "source": [
    "#complex_heuristic(file_path)"
   ]
  },
  {
   "cell_type": "markdown",
   "metadata": {},
   "source": [
    "** Custom Heuristic **"
   ]
  },
  {
   "cell_type": "code",
   "execution_count": 35,
   "metadata": {
    "collapsed": false
   },
   "outputs": [
    {
     "ename": "IndentationError",
     "evalue": "expected an indented block (<ipython-input-35-b9d24cceb2aa>, line 72)",
     "output_type": "error",
     "traceback": [
      "\u001b[1;36m  File \u001b[1;32m\"<ipython-input-35-b9d24cceb2aa>\"\u001b[1;36m, line \u001b[1;32m72\u001b[0m\n\u001b[1;33m    return predictions\u001b[0m\n\u001b[1;37m         ^\u001b[0m\n\u001b[1;31mIndentationError\u001b[0m\u001b[1;31m:\u001b[0m expected an indented block\n"
     ]
    }
   ],
   "source": [
    "import numpy\n",
    "import pandas\n",
    "import statsmodels.api as sm\n",
    "\n",
    "def custom_heuristic(file_path):\n",
    "    \n",
    "    '''\n",
    "    You are given a list of Titantic passengers and their associated\n",
    "    information. More information about the data can be seen at the link below:\n",
    "    http://www.kaggle.com/c/titanic-gettingStarted/data\n",
    "\n",
    "    For this exercise, you need to write a custom heuristic that will take\n",
    "    in some combination of the passenger's attributes and predict if the passenger\n",
    "    survived the Titanic diaster.\n",
    "\n",
    "    Can your custom heuristic beat 80% accuracy?\n",
    "    \n",
    "    The available attributes are:\n",
    "    Pclass          Passenger Class\n",
    "                    (1 = 1st; 2 = 2nd; 3 = 3rd)\n",
    "    Name            Name\n",
    "    Sex             Sex\n",
    "    Age             Age\n",
    "    SibSp           Number of Siblings/Spouses Aboard\n",
    "    Parch           Number of Parents/Children Aboard\n",
    "    Ticket          Ticket Number\n",
    "    Fare            Passenger Fare\n",
    "    Cabin           Cabin\n",
    "    Embarked        Port of Embarkation\n",
    "                    (C = Cherbourg; Q = Queenstown; S = Southampton)\n",
    "                    \n",
    "    SPECIAL NOTES:\n",
    "    Pclass is a proxy for socioeconomic status (SES)\n",
    "    1st ~ Upper; 2nd ~ Middle; 3rd ~ Lower\n",
    "\n",
    "    Age is in years; fractional if age less than one\n",
    "    If the age is estimated, it is in the form xx.5\n",
    "\n",
    "    With respect to the family relation variables (i.e. SibSp and Parch)\n",
    "    some relations were ignored. The following are the definitions used\n",
    "    for SibSp and Parch.\n",
    "\n",
    "    Sibling:  brother, sister, stepbrother, or stepsister of passenger aboard Titanic\n",
    "    Spouse:   husband or wife of passenger aboard Titanic (mistresses and fiancees ignored)\n",
    "    Parent:   mother or father of passenger aboard Titanic\n",
    "    Child:    son, daughter, stepson, or stepdaughter of passenger aboard Titanic\n",
    "    \n",
    "    Write your prediction back into the \"predictions\" dictionary. The\n",
    "    key of the dictionary should be the passenger's id (which can be accessed\n",
    "    via passenger[\"PassengerId\"]) and the associating value should be 1 if the\n",
    "    passenger survvied or 0 otherwise. \n",
    "\n",
    "    For example, if a passenger is predicted to have survived:\n",
    "    passenger_id = passenger['PassengerId']\n",
    "    predictions[passenger_id] = 1\n",
    "\n",
    "    And if a passenger is predicted to have perished in the disaster:\n",
    "    passenger_id = passenger['PassengerId']\n",
    "    predictions[passenger_id] = 0\n",
    "    \n",
    "    You can also look at the Titantic data that you will be working with\n",
    "    at the link below:\n",
    "    https://www.dropbox.com/s/r5f9aos8p9ri9sa/titanic_data.csv\n",
    "    '''\n",
    "\n",
    "    predictions = {}\n",
    "    df = pandas.read_csv(file_path)\n",
    "    \n",
    "    for passenger_index, passenger in df.iterrows():\n",
    "        print \" \"\n",
    "        #\n",
    "        # your code here\n",
    "        #\n",
    "    return predictions\n"
   ]
  },
  {
   "cell_type": "code",
   "execution_count": 31,
   "metadata": {
    "collapsed": false
   },
   "outputs": [
    {
     "ename": "NameError",
     "evalue": "name 'custom_heuristic' is not defined",
     "output_type": "error",
     "traceback": [
      "\u001b[1;31m---------------------------------------------------------------------------\u001b[0m",
      "\u001b[1;31mNameError\u001b[0m                                 Traceback (most recent call last)",
      "\u001b[1;32m<ipython-input-31-84c075f2f946>\u001b[0m in \u001b[0;36m<module>\u001b[1;34m()\u001b[0m\n\u001b[1;32m----> 1\u001b[1;33m \u001b[0mcustom_heuristic\u001b[0m\u001b[1;33m(\u001b[0m\u001b[0mfile_path\u001b[0m\u001b[1;33m)\u001b[0m\u001b[1;33m\u001b[0m\u001b[0m\n\u001b[0m",
      "\u001b[1;31mNameError\u001b[0m: name 'custom_heuristic' is not defined"
     ]
    }
   ],
   "source": [
    "custom_heuristic(file_path)"
   ]
  }
 ],
 "metadata": {
  "kernelspec": {
   "display_name": "Python 2",
   "language": "python",
   "name": "python2"
  },
  "language_info": {
   "codemirror_mode": {
    "name": "ipython",
    "version": 2
   },
   "file_extension": ".py",
   "mimetype": "text/x-python",
   "name": "python",
   "nbconvert_exporter": "python",
   "pygments_lexer": "ipython2",
   "version": "2.7.11"
  }
 },
 "nbformat": 4,
 "nbformat_minor": 0
}
