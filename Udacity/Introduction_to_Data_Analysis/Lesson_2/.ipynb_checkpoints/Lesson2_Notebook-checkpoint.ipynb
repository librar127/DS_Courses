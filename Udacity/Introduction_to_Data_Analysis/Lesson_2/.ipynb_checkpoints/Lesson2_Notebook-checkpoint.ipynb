{
 "cells": [
  {
   "cell_type": "code",
   "execution_count": 2,
   "metadata": {
    "collapsed": false
   },
   "outputs": [
    {
     "name": "stdout",
     "output_type": "stream",
     "text": [
      "\n",
      "(array(['Angola'], \n",
      "      dtype='|S22'), 75.699996949999999)\n"
     ]
    }
   ],
   "source": [
    "import numpy as np\n",
    "\n",
    "# First 20 countries with employment data\n",
    "countries = np.array([\n",
    "    'Afghanistan', 'Albania', 'Algeria', 'Angola', 'Argentina',\n",
    "    'Armenia', 'Australia', 'Austria', 'Azerbaijan', 'Bahamas',\n",
    "    'Bahrain', 'Bangladesh', 'Barbados', 'Belarus', 'Belgium',\n",
    "    'Belize', 'Benin', 'Bhutan', 'Bolivia',\n",
    "    'Bosnia and Herzegovina'\n",
    "])\n",
    "\n",
    "# Employment data in 2007 for those 20 countries\n",
    "employment = np.array([\n",
    "    55.70000076,  51.40000153,  50.5       ,  75.69999695,\n",
    "    58.40000153,  40.09999847,  61.5       ,  57.09999847,\n",
    "    60.90000153,  66.59999847,  60.40000153,  68.09999847,\n",
    "    66.90000153,  53.40000153,  48.59999847,  56.79999924,\n",
    "    71.59999847,  58.40000153,  70.40000153,  41.20000076\n",
    "])\n",
    "\n",
    "# Change False to True for each block of code to see what it does\n",
    "\n",
    "# Accessing elements\n",
    "if False:\n",
    "    print countries[0]\n",
    "    print countries[3]\n",
    "\n",
    "# Slicing\n",
    "if False:\n",
    "    print countries[0:3]\n",
    "    print countries[:3]\n",
    "    print countries[17:]\n",
    "    print countries[:]\n",
    "\n",
    "# Element types\n",
    "if False:\n",
    "    print countries.dtype\n",
    "    print employment.dtype\n",
    "    print np.array([0, 1, 2, 3]).dtype\n",
    "    print np.array([1.0, 1.5, 2.0, 2.5]).dtype\n",
    "    print np.array([True, False, True]).dtype\n",
    "    print np.array(['AL', 'AK', 'AZ', 'AR', 'CA']).dtype\n",
    "\n",
    "# Looping\n",
    "if False:\n",
    "    for country in countries:\n",
    "        print 'Examining country {}'.format(country)\n",
    "\n",
    "    for i in range(len(countries)):\n",
    "        country = countries[i]\n",
    "        country_employment = employment[i]\n",
    "        print 'Country {} has employment {}'.format(country,\n",
    "                country_employment)\n",
    "\n",
    "# Numpy functions\n",
    "if False:\n",
    "    print employment.mean()\n",
    "    print employment.std()\n",
    "    print employment.max()\n",
    "    print employment.sum()\n",
    "\n",
    "def max_employment(countries, employment):\n",
    "    '''\n",
    "    Fill in this function to return the name of the country\n",
    "    with the highest employment in the given employment\n",
    "    data, and the employment in that country.\n",
    "    '''\n",
    "    \n",
    "    max_country = countries[np.where(employment == np.max(employment))]      # Replace this with your code\n",
    "    max_value =  np.max(employment)   # Replace this with your code\n",
    "    \n",
    "    i = employment.argmax()\n",
    "    print \n",
    "\n",
    "    return (max_country, max_value)\n",
    "\n",
    "print max_employment(countries, employment)"
   ]
  },
  {
   "cell_type": "code",
   "execution_count": null,
   "metadata": {
    "collapsed": true
   },
   "outputs": [],
   "source": [
    "import numpy as np\n",
    "\n",
    "# Change False to True for each block of code to see what it does\n",
    "\n",
    "# Arithmetic operations between 2 NumPy arrays\n",
    "if False:\n",
    "    a = np.array([1, 2, 3, 4])\n",
    "    b = np.array([1, 2, 1, 2])\n",
    "    \n",
    "    print a + b\n",
    "    print a - b\n",
    "    print a * b\n",
    "    print a / b\n",
    "    print a ** b\n",
    "    \n",
    "# Arithmetic operations between a NumPy array and a single number\n",
    "if False:\n",
    "    a = np.array([1, 2, 3, 4])\n",
    "    b = 2\n",
    "    \n",
    "    print a + b\n",
    "    print a - b\n",
    "    print a * b\n",
    "    print a / b\n",
    "    print a ** b\n",
    "    \n",
    "# Logical operations with NumPy arrays\n",
    "if False:\n",
    "    a = np.array([True, True, False, False])\n",
    "    b = np.array([True, False, True, False])\n",
    "    \n",
    "    print a & b\n",
    "    print a | b\n",
    "    print ~a\n",
    "    \n",
    "    print a & True\n",
    "    print a & False\n",
    "    \n",
    "    print a | True\n",
    "    print a | False\n",
    "    \n",
    "# Comparison operations between 2 NumPy Arrays\n",
    "if False:\n",
    "    a = np.array([1, 2, 3, 4, 5])\n",
    "    b = np.array([5, 4, 3, 2, 1])\n",
    "    \n",
    "    print a > b\n",
    "    print a >= b\n",
    "    print a < b\n",
    "    print a <= b\n",
    "    print a == b\n",
    "    print a != b\n",
    "    \n",
    "# Comparison operations betweenimport numpy as np a NumPy array and a single number\n",
    "if False:\n",
    "    a = np.array([1, 2, 3, 4])\n",
    "    b = 2\n",
    "    \n",
    "    print a > b\n",
    "    print a >= b\n",
    "    print a < b\n",
    "    print a <= b\n",
    "    print a == b\n",
    "    print a != b\n",
    "    \n",
    "# First 20 countries with school completion data\n",
    "countries = np.array([\n",
    "       'Algeria', 'Argentina', 'Armenia', 'Aruba', 'Austria','Azerbaijan',\n",
    "       'Bahamas', 'Barbados', 'Belarus', 'Belgium', 'Belize', 'Bolivia',\n",
    "       'Botswana', 'Brunei', 'Bulgaria', 'Burkina Faso', 'Burundi',\n",
    "       'Cambodia', 'Cameroon', 'Cape Verde'\n",
    "])\n",
    "\n",
    "# Female school completion rate in 2007 for those 20 countries\n",
    "female_completion = np.array([\n",
    "    97.35583,  104.62379,  103.02998,   95.14321,  103.69019,\n",
    "    98.49185,  100.88828,   95.43974,   92.11484,   91.54804,\n",
    "    95.98029,   98.22902,   96.12179,  119.28105,   97.84627,\n",
    "    29.07386,   38.41644,   90.70509,   51.7478 ,   95.45072\n",
    "])\n",
    "\n",
    "# Male school completion rate in 2007 for those 20 countries\n",
    "male_completion = np.array([\n",
    "     95.47622,  100.66476,   99.7926 ,   91.48936,  103.22096,\n",
    "     97.80458,  103.81398,   88.11736,   93.55611,   87.76347,\n",
    "    102.45714,   98.73953,   92.22388,  115.3892 ,   98.70502,\n",
    "     37.00692,   45.39401,   91.22084,   62.42028,   90.66958\n",
    "])\n",
    "\n",
    "def overall_completion_rate(female_completion, male_completion):\n",
    "    '''\n",
    "    Fill in this function to return a NumPy array containing the overall\n",
    "    school completion rate for each country. The arguments are NumPy\n",
    "    arrays giving the female and male completion of each country in\n",
    "    the same order.\n",
    "    '''\n",
    "    return (female_completion+male_completion)/2"
   ]
  },
  {
   "cell_type": "code",
   "execution_count": null,
   "metadata": {
    "collapsed": false
   },
   "outputs": [],
   "source": [
    "print overall_completion_rate(female_completion, male_completion)"
   ]
  },
  {
   "cell_type": "code",
   "execution_count": null,
   "metadata": {
    "collapsed": true
   },
   "outputs": [],
   "source": [
    "import numpy as np\n",
    "\n",
    "# First 20 countries with employment data\n",
    "countries = np.array([\n",
    "    'Afghanistan', 'Albania', 'Algeria', 'Angola', 'Argentina',\n",
    "    'Armenia', 'Australia', 'Austria', 'Azerbaijan', 'Bahamas',\n",
    "    'Bahrain', 'Bangladesh', 'Barbados', 'Belarus', 'Belgium',\n",
    "    'Belize', 'Benin', 'Bhutan', 'Bolivia',\n",
    "    'Bosnia and Herzegovina'\n",
    "])\n",
    "\n",
    "# Employment data in 2007 for those 20 countries\n",
    "employment = np.array([\n",
    "    55.70000076,  51.40000153,  50.5       ,  75.69999695,\n",
    "    58.40000153,  40.09999847,  61.5       ,  57.09999847,\n",
    "    60.90000153,  66.59999847,  60.40000153,  68.09999847,\n",
    "    66.90000153,  53.40000153,  48.59999847,  56.79999924,\n",
    "    71.59999847,  58.40000153,  70.40000153,  41.20000076\n",
    "])\n",
    "\n",
    "# Change this country name to change what country will be printed when you\n",
    "# click \"Test Run\". Your function will be called to determine the standardized\n",
    "# score for this country for each of the given 5 Gapminder variables in 2007.\n",
    "# The possible country names are available in the Downloadables section.\n",
    "\n",
    "country_name = 'United States'\n",
    "\n",
    "def standardize_data(values):\n",
    "    '''\n",
    "    Fill in this function to return a standardized version of the given values,\n",
    "    which will be in a NumPy array. Each value should be translated into the\n",
    "    number of standard deviations that value is away from the mean of the data.\n",
    "    (A positive number indicates a value higher than the mean, and a negative\n",
    "    number indicates a value lower than the mean.)\n",
    "    '''\n",
    "    \n",
    "    mean = values.mean()\n",
    "    std = values.std()    \n",
    "    \n",
    "    return (values-mean)/std"
   ]
  },
  {
   "cell_type": "code",
   "execution_count": null,
   "metadata": {
    "collapsed": false
   },
   "outputs": [],
   "source": [
    "standardize_data(employment)"
   ]
  },
  {
   "cell_type": "code",
   "execution_count": null,
   "metadata": {
    "collapsed": false
   },
   "outputs": [],
   "source": [
    "import numpy as np\n",
    "\n",
    "# Change False to True for each block of code to see what it does\n",
    "\n",
    "# Using index arrays\n",
    "if False:\n",
    "    a = np.array([1, 2, 3, 4])\n",
    "    b = np.array([True, True, False, False])\n",
    "    \n",
    "    print a[b]\n",
    "    print a[np.array([True, False, True, False])]\n",
    "    \n",
    "# Creating the index array using vectorized operations\n",
    "if False:\n",
    "    a = np.array([1, 2, 3, 2, 1])\n",
    "    b = (a >= 2)\n",
    "    \n",
    "    print a[b]\n",
    "    print a[a >= 2]\n",
    "    \n",
    "# Creating the index array using vectorized operations on another array\n",
    "if False:\n",
    "    a = np.array([1, 2, 3, 4, 5])\n",
    "    b = np.array([1, 2, 3, 2, 1])\n",
    "    \n",
    "    print b == 2\n",
    "    print a[b == 2]\n",
    "\n",
    "def mean_time_for_paid_students(time_spent, days_to_cancel):\n",
    "    '''\n",
    "    Fill in this function to calculate the mean time spent in the classroom\n",
    "    for students who stayed enrolled at least (greater than or equal to) 7 days.\n",
    "    Unlike in Lesson 1, you can assume that days_to_cancel will contain only\n",
    "    integers (there are no students who have not canceled yet).\n",
    "    \n",
    "    The arguments are NumPy arrays. time_spent contains the amount of time spent\n",
    "    in the classroom for each student, and days_to_cancel contains the number\n",
    "    of days until each student cancel. The data is given in the same order\n",
    "    in both arrays.\n",
    "    '''\n",
    "        \n",
    "    return time_spent[[days_to_cancel >= 7]].mean()\n",
    "\n",
    "# Time spent in the classroom in the first week for 20 students\n",
    "time_spent = np.array([\n",
    "       12.89697233,    0.        ,   64.55043217,    0.        ,\n",
    "       24.2315615 ,   39.991625  ,    0.        ,    0.        ,\n",
    "      147.20683783,    0.        ,    0.        ,    0.        ,\n",
    "       45.18261617,  157.60454283,  133.2434615 ,   52.85000767,\n",
    "        0.        ,   54.9204785 ,   26.78142417,    0.\n",
    "])\n",
    "\n",
    "# Days to cancel for 20 students\n",
    "days_to_cancel = np.array([\n",
    "      4,   5,  37,   3,  12,   4,  35,  38,   5,  37,   3,   3,  68,\n",
    "     38,  98,   2, 249,   2, 127,  35\n",
    "])\n"
   ]
  },
  {
   "cell_type": "code",
   "execution_count": null,
   "metadata": {
    "collapsed": false
   },
   "outputs": [],
   "source": [
    "print mean_time_for_paid_students(time_spent, days_to_cancel)"
   ]
  },
  {
   "cell_type": "code",
   "execution_count": 3,
   "metadata": {
    "collapsed": false
   },
   "outputs": [
    {
     "data": {
      "text/plain": [
       "array([2, 3, 4, 5])"
      ]
     },
     "execution_count": 3,
     "metadata": {},
     "output_type": "execute_result"
    }
   ],
   "source": [
    "a = np.array([1, 2, 3, 4])\n",
    "b = a\n",
    "a += np.array([1,1,1,1])\n",
    "b"
   ]
  },
  {
   "cell_type": "code",
   "execution_count": 9,
   "metadata": {
    "collapsed": false
   },
   "outputs": [
    {
     "data": {
      "text/plain": [
       "array([5, 2, 3, 4])"
      ]
     },
     "execution_count": 9,
     "metadata": {},
     "output_type": "execute_result"
    }
   ],
   "source": [
    "aa = np.array([1, 2, 3, 4])\n",
    "slice = a[0:3]\n",
    "slice[0] = 5\n",
    "aa"
   ]
  },
  {
   "cell_type": "code",
   "execution_count": 17,
   "metadata": {
    "collapsed": false
   },
   "outputs": [
    {
     "data": {
      "text/plain": [
       "[1, 2, 3, 4]"
      ]
     },
     "execution_count": 17,
     "metadata": {},
     "output_type": "execute_result"
    }
   ],
   "source": [
    "lis = [1, 2, 3, 4]\n",
    "lis\n",
    "sl = lis[0:3]\n",
    "lis"
   ]
  },
  {
   "cell_type": "code",
   "execution_count": 17,
   "metadata": {
    "collapsed": false
   },
   "outputs": [
    {
     "data": {
      "text/plain": [
       "[1, 2, 3, 4]"
      ]
     },
     "execution_count": 17,
     "metadata": {},
     "output_type": "execute_result"
    }
   ],
   "source": [
    "lis = [1, 2, 3, 4]\n",
    "lis\n",
    "sl = lis[0:3]\n",
    "lis"
   ]
  },
  {
   "cell_type": "code",
   "execution_count": 89,
   "metadata": {
    "collapsed": false
   },
   "outputs": [
    {
     "name": "stdout",
     "output_type": "stream",
     "text": [
      "0    2\n",
      "1    4\n",
      "2    4\n",
      "3    6\n",
      "dtype: int64\n",
      "0    2\n",
      "1    4\n",
      "2    6\n",
      "3    8\n",
      "dtype: int64\n",
      "0    False\n",
      "1    False\n",
      "2     True\n",
      "3     True\n",
      "dtype: bool\n",
      "0    1\n",
      "2    3\n",
      "3    4\n",
      "dtype: int64\n"
     ]
    }
   ],
   "source": [
    "a = pd.Series([1, 2, 3, 4])\n",
    "b = pd.Series([1, 2, 1, 2])\n",
    "  \n",
    "print a + b\n",
    "print a * 2\n",
    "print a >= 3\n",
    "aa = a >= 3\n",
    "bb = a <= 1\n",
    "\n",
    "aa = a[aa | bb]\n",
    "print aa"
   ]
  },
  {
   "cell_type": "code",
   "execution_count": 107,
   "metadata": {
    "collapsed": true
   },
   "outputs": [],
   "source": [
    "import pandas as pd\n",
    "\n",
    "countries = ['Albania', 'Algeria', 'Andorra', 'Angola', 'Antigua and Barbuda',\n",
    "             'Argentina', 'Armenia', 'Australia', 'Austria', 'Azerbaijan',\n",
    "             'Bahamas', 'Bahrain', 'Bangladesh', 'Barbados', 'Belarus',\n",
    "             'Belgium', 'Belize', 'Benin', 'Bhutan', 'Bolivia']\n",
    "\n",
    "life_expectancy_values = [74.7,  75. ,  83.4,  57.6,  74.6,  75.4,  72.3,  81.5,  80.2,\n",
    "                          70.3,  72.1,  76.4,  68.1,  75.2,  69.8,  79.4,  70.8,  62.7,\n",
    "                          67.3,  70.6]\n",
    "\n",
    "gdp_values = [ 1681.61390973,   2155.48523109,  21495.80508273,    562.98768478,\n",
    "              13495.1274663 ,   9388.68852258,   1424.19056199,  24765.54890176,\n",
    "              27036.48733192,   1945.63754911,  21721.61840978,  13373.21993972,\n",
    "                483.97086804,   9783.98417323,   2253.46411147,  25034.66692293,\n",
    "               3680.91642923,    366.04496652,   1175.92638695,   1132.21387981]\n",
    "\n",
    "# Life expectancy and gdp data in 2007 for 20 countries\n",
    "life_expectancy = pd.Series(life_expectancy_values)\n",
    "gdp = pd.Series(gdp_values)\n",
    "\n",
    "# Change False to True for each block of code to see what it does\n",
    "\n",
    "# Accessing elements and slicing\n",
    "if False:\n",
    "    print life_expectancy[0]\n",
    "    print gdp[3:6]\n",
    "    \n",
    "# Looping\n",
    "if False:\n",
    "    for country_life_expectancy in life_expectancy:\n",
    "        print 'Examining life expectancy {}'.format(country_life_expectancy)\n",
    "        \n",
    "# Pandas functions\n",
    "if False:\n",
    "    print life_expectancy.mean()\n",
    "    print life_expectancy.std()\n",
    "    print gdp.max()\n",
    "    print gdp.sum()\n",
    "\n",
    "# Vectorized operations and index arrays\n",
    "if False:\n",
    "    a = pd.Series([1, 2, 3, 4])\n",
    "    b = pd.Series([1, 2, 1, 2])\n",
    "  \n",
    "    print a + b\n",
    "    print a * 2\n",
    "    print a >= 3\n",
    "    print a[a >= 3]\n",
    "\n",
    "def variable_correlation(variable1, variable2):\n",
    "    '''\n",
    "    Fill in this function to calculate the number of data points for which\n",
    "    the directions of variable1 and variable2 relative to the mean are the\n",
    "    same, and the number of data points for which they are different.\n",
    "    Direction here means whether each value is above or below its mean.\n",
    "    \n",
    "    You can classify cases where the value is equal to the mean for one or\n",
    "    both variables however you like.\n",
    "    \n",
    "    Each argument will be a Pandas series.\n",
    "    \n",
    "    For example, if the inputs were pd.Series([1, 2, 3, 4]) and\n",
    "    pd.Series([4, 5, 6, 7]), then the output would be (4, 0).\n",
    "    This is because 1 and 4 are both below their means, 2 and 5 are both\n",
    "    below, 3 and 6 are both above, and 3 and 4 are both above.\n",
    "    \n",
    "    On the other hand, if the inputs were pd.Series([1, 2, 3, 4]) and\n",
    "    pd.Series([7, 6, 5, 4]), then the output would be (0, 4).\n",
    "    This is because 1 is below its mean but 7 is above its mean, and\n",
    "    so on.\n",
    "    '''\n",
    "    \n",
    "    both_above = (variable1 > variable1.mean()) & (variable2 > variable2.mean())\n",
    "    both_below  = (variable1 < variable1.mean()) & (variable2 < variable2.mean())\n",
    "    \n",
    "    is_same_direction = both_above | both_below\n",
    "    #print is_same_direction\n",
    "    \n",
    "    num_same_direction = is_same_direction.sum()\n",
    "    num_different_direction = len(variable1) - num_same_direction\n",
    "    return (num_same_direction, num_different_direction)"
   ]
  },
  {
   "cell_type": "code",
   "execution_count": 108,
   "metadata": {
    "collapsed": false
   },
   "outputs": [
    {
     "data": {
      "text/plain": [
       "(17, 3)"
      ]
     },
     "execution_count": 108,
     "metadata": {},
     "output_type": "execute_result"
    }
   ],
   "source": [
    "variable_correlation(life_expectancy, gdp)"
   ]
  },
  {
   "cell_type": "code",
   "execution_count": 120,
   "metadata": {
    "collapsed": true
   },
   "outputs": [],
   "source": [
    "import pandas as pd\n",
    "\n",
    "countries = [\n",
    "    'Afghanistan', 'Albania', 'Algeria', 'Angola', 'Argentina',\n",
    "    'Armenia', 'Australia', 'Austria', 'Azerbaijan', 'Bahamas',\n",
    "    'Bahrain', 'Bangladesh', 'Barbados', 'Belarus', 'Belgium',\n",
    "    'Belize', 'Benin', 'Bhutan', 'Bolivia',\n",
    "    'Bosnia and Herzegovina'\n",
    "]\n",
    "\n",
    "\n",
    "employment_values = [\n",
    "    55.70000076,  51.40000153,  50.5       ,  75.69999695,\n",
    "    58.40000153,  40.09999847,  61.5       ,  57.09999847,\n",
    "    60.90000153,  66.59999847,  60.40000153,  68.09999847,\n",
    "    66.90000153,  53.40000153,  48.59999847,  56.79999924,\n",
    "    71.59999847,  58.40000153,  70.40000153,  41.20000076\n",
    "]\n",
    "\n",
    "# Employment data in 2007 for 20 countries\n",
    "employment = pd.Series(employment_values, index=countries)\n",
    "\n",
    "def max_employment(employment):\n",
    "    '''\n",
    "    Fill in this function to return the name of the country\n",
    "    with the highest employment in the given employment\n",
    "    data, and the employment in that country.\n",
    "    \n",
    "    The input will be a Pandas series where the values\n",
    "    are employment and the index is country names.\n",
    "    \n",
    "    Try using the Pandas argmax() function. Documention is\n",
    "    here: http://pandas.pydata.org/pandas-docs/stable/generated/pandas.Series.argmax.html\n",
    "    '''\n",
    "    max_value = employment.max()  # Replace this with your code\n",
    "    max_country = employment.argmax(max_value)            # Replace this with your code\n",
    "\n",
    "    return (max_country, max_value)"
   ]
  },
  {
   "cell_type": "code",
   "execution_count": 121,
   "metadata": {
    "collapsed": false
   },
   "outputs": [
    {
     "data": {
      "text/plain": [
       "('Angola', 75.699996949999999)"
      ]
     },
     "execution_count": 121,
     "metadata": {},
     "output_type": "execute_result"
    }
   ],
   "source": [
    "max_employment(employment)"
   ]
  },
  {
   "cell_type": "markdown",
   "metadata": {},
   "source": [
    "** Adding with Same Index **"
   ]
  },
  {
   "cell_type": "code",
   "execution_count": 130,
   "metadata": {
    "collapsed": false
   },
   "outputs": [
    {
     "name": "stdout",
     "output_type": "stream",
     "text": [
      "a    11\n",
      "b    22\n",
      "c    33\n",
      "d    44\n",
      "dtype: int64\n"
     ]
    }
   ],
   "source": [
    "# Addition when indexes are the same\n",
    "if True:\n",
    "    s1 = pd.Series([1, 2, 3, 4], index=['a', 'b', 'c', 'd'])\n",
    "    s2 = pd.Series([10, 20, 30, 40], index=['a', 'b', 'c', 'd'])   \n",
    "    \n",
    "    print s1 + s2"
   ]
  },
  {
   "cell_type": "markdown",
   "metadata": {},
   "source": [
    "** Adding with Same Index at different position **"
   ]
  },
  {
   "cell_type": "code",
   "execution_count": 129,
   "metadata": {
    "collapsed": false
   },
   "outputs": [
    {
     "name": "stdout",
     "output_type": "stream",
     "text": [
      "a    31\n",
      "b    12\n",
      "c    43\n",
      "d    24\n",
      "dtype: int64\n"
     ]
    }
   ],
   "source": [
    "# Indexes have same elements in a different order\n",
    "if True:\n",
    "    s1 = pd.Series([1, 2, 3, 4], index=['a', 'b', 'c', 'd'])\n",
    "    s2 = pd.Series([10, 20, 30, 40], index=['b', 'd', 'a', 'c'])\n",
    "    print s1 + s2"
   ]
  },
  {
   "cell_type": "markdown",
   "metadata": {},
   "source": [
    "** Adding with different Index with few common**"
   ]
  },
  {
   "cell_type": "code",
   "execution_count": 128,
   "metadata": {
    "collapsed": false
   },
   "outputs": [
    {
     "name": "stdout",
     "output_type": "stream",
     "text": [
      "a   NaN\n",
      "b   NaN\n",
      "c    13\n",
      "d    24\n",
      "e   NaN\n",
      "f   NaN\n",
      "dtype: float64\n"
     ]
    }
   ],
   "source": [
    "# Indexes overlap, but do not have exactly the same elements\n",
    "if True:\n",
    "    s1 = pd.Series([1, 2, 3, 4], index=['a', 'b', 'c', 'd'])\n",
    "    s2 = pd.Series([10, 20, 30, 40], index=['c', 'd', 'e', 'f'])\n",
    "    print s1 + s2"
   ]
  },
  {
   "cell_type": "markdown",
   "metadata": {},
   "source": [
    "** Adding with totally different Index **"
   ]
  },
  {
   "cell_type": "code",
   "execution_count": 127,
   "metadata": {
    "collapsed": false
   },
   "outputs": [
    {
     "name": "stdout",
     "output_type": "stream",
     "text": [
      "a   NaN\n",
      "b   NaN\n",
      "c   NaN\n",
      "d   NaN\n",
      "e   NaN\n",
      "f   NaN\n",
      "g   NaN\n",
      "h   NaN\n",
      "dtype: float64\n"
     ]
    }
   ],
   "source": [
    "# Indexes do not overlap\n",
    "if True:\n",
    "    s1 = pd.Series([1, 2, 3, 4], index=['a', 'b', 'c', 'd'])\n",
    "    s2 = pd.Series([10, 20, 30, 40], index=['e', 'f', 'g', 'h'])\n",
    "    print s1 + s2"
   ]
  },
  {
   "cell_type": "markdown",
   "metadata": {},
   "source": [
    "** Treating Missing values **"
   ]
  },
  {
   "cell_type": "code",
   "execution_count": 132,
   "metadata": {
    "collapsed": false
   },
   "outputs": [
    {
     "name": "stdout",
     "output_type": "stream",
     "text": [
      "a     1\n",
      "b     2\n",
      "c    13\n",
      "d    24\n",
      "e    30\n",
      "f    40\n",
      "dtype: int64\n"
     ]
    }
   ],
   "source": [
    "import pandas as pd\n",
    "\n",
    "s1 = pd.Series([1, 2, 3, 4, 0, 0], index=['a', 'b', 'c', 'd', 'e', 'f'])\n",
    "s2 = pd.Series([0, 0, 10, 20, 30, 40], index=['a', 'b', 'c', 'd', 'e', 'f'])\n",
    "\n",
    "# Try to write code that will add the 2 previous series together,\n",
    "# but treating missing values from either series as 0. The result\n",
    "# when printed out should be similar to the following line:\n",
    "# print pd.Series([1, 2, 13, 24, 30, 40], index=['a', 'b', 'c', 'd', 'e', 'f'])\n",
    "\n",
    "res = s1 + s2\n",
    "print res"
   ]
  },
  {
   "cell_type": "code",
   "execution_count": 133,
   "metadata": {
    "collapsed": false
   },
   "outputs": [
    {
     "name": "stdout",
     "output_type": "stream",
     "text": [
      "a     1\n",
      "b     2\n",
      "c    13\n",
      "d    24\n",
      "e    30\n",
      "f    40\n",
      "dtype: float64\n"
     ]
    }
   ],
   "source": [
    "import pandas as pd\n",
    "\n",
    "s1 = pd.Series([1, 2, 3, 4], index=['a', 'b', 'c', 'd'])\n",
    "s2 = pd.Series([10, 20, 30, 40], index=['c', 'd', 'e', 'f'])\n",
    "\n",
    "# Try to write code that will add the 2 previous series together,\n",
    "# but treating missing values from either series as 0. The result\n",
    "# when printed out should be similar to the following line:\n",
    "# print pd.Series([1, 2, 13, 24, 30, 40], index=['a', 'b', 'c', 'd', 'e', 'f'])\n",
    "\n",
    "print s1.add(s2, fill_value = 0)"
   ]
  },
  {
   "cell_type": "code",
   "execution_count": 152,
   "metadata": {
    "collapsed": false
   },
   "outputs": [
    {
     "name": "stdout",
     "output_type": "stream",
     "text": [
      "0    2\n",
      "1    3\n",
      "2    4\n",
      "3    5\n",
      "4    6\n",
      "dtype: int64\n"
     ]
    }
   ],
   "source": [
    "# Example pandas apply() usage (although this could have been done\n",
    "# without apply() using vectorized operations)\n",
    "if True:\n",
    "    s = pd.Series([1, 2, 3, 4, 5])\n",
    "    \n",
    "    def add_one(x):\n",
    "        return x + 1\n",
    "    \n",
    "    print s.apply(add_one)\n",
    "\n",
    "names = pd.Series([\n",
    "    'Andre Agassi',\n",
    "    'Barry Bonds',\n",
    "    'Christopher Columbus',\n",
    "    'Daniel Defoe',\n",
    "    'Emilio Estevez',\n",
    "    'Fred Flintstone',\n",
    "    'Greta Garbo',\n",
    "    'Humbert Humbert',\n",
    "    'Ivan Ilych',\n",
    "    'James Joyce',\n",
    "    'Keira Knightley',\n",
    "    'Lois Lane',\n",
    "    'Mike Myers',\n",
    "    'Nick Nolte',\n",
    "    'Ozzy Osbourne',\n",
    "    'Pablo Picasso',\n",
    "    'Quirinus Quirrell',\n",
    "    'Rachael Ray',\n",
    "    'Susan Sarandon',\n",
    "    'Tina Turner',\n",
    "    'Ugueth Urbina',\n",
    "    'Vince Vaughn',\n",
    "    'Woodrow Wilson',\n",
    "    'Yoji Yamada',\n",
    "    'Zinedine Zidane'\n",
    "])\n",
    "\n",
    "def reverse_name(name):\n",
    "    \n",
    "    split_name = name.split(\" \")\n",
    "    \n",
    "    return split_name[1]+ \", \"+ split_name[0]\n",
    "\n",
    "def reverse_names(names):\n",
    "    '''\n",
    "    Fill in this function to return a new series where each name\n",
    "    in the input series has been transformed from the format\n",
    "    \"Firstname Lastname\" to \"Lastname, FirstName\".\n",
    "    \n",
    "    Try to use the Pandas apply() function rather than a loop.\n",
    "    '''\n",
    "    return names.apply(reverse_name)"
   ]
  },
  {
   "cell_type": "code",
   "execution_count": 153,
   "metadata": {
    "collapsed": false
   },
   "outputs": [
    {
     "data": {
      "text/plain": [
       "0             Agassi, Andre\n",
       "1              Bonds, Barry\n",
       "2     Columbus, Christopher\n",
       "3             Defoe, Daniel\n",
       "4           Estevez, Emilio\n",
       "5          Flintstone, Fred\n",
       "6              Garbo, Greta\n",
       "7          Humbert, Humbert\n",
       "8               Ilych, Ivan\n",
       "9              Joyce, James\n",
       "10         Knightley, Keira\n",
       "11               Lane, Lois\n",
       "12              Myers, Mike\n",
       "13              Nolte, Nick\n",
       "14           Osbourne, Ozzy\n",
       "15           Picasso, Pablo\n",
       "16       Quirrell, Quirinus\n",
       "17             Ray, Rachael\n",
       "18          Sarandon, Susan\n",
       "19             Turner, Tina\n",
       "20           Urbina, Ugueth\n",
       "21            Vaughn, Vince\n",
       "22          Wilson, Woodrow\n",
       "23             Yamada, Yoji\n",
       "24         Zidane, Zinedine\n",
       "dtype: object"
      ]
     },
     "execution_count": 153,
     "metadata": {},
     "output_type": "execute_result"
    }
   ],
   "source": [
    "reverse_names(names)"
   ]
  },
  {
   "cell_type": "code",
   "execution_count": 173,
   "metadata": {
    "collapsed": false
   },
   "outputs": [],
   "source": [
    "import pandas as pd\n",
    "import seaborn as sns\n",
    "%matplotlib inline\n",
    "\n",
    "# The following code reads all the Gapminder data into Pandas DataFrames. You'll\n",
    "# learn about DataFrames next lesson.\n",
    "\n",
    "employment = pd.read_csv('employment_above_15.csv', index_col='Country')\n",
    "female_completion = pd.read_csv('female_completion_rate.csv', index_col='Country')\n",
    "male_completion = pd.read_csv('male_completion_rate.csv', index_col='Country')\n",
    "life_expectancy = pd.read_csv('life_expectancy.csv', index_col='Country')\n",
    "gdp = pd.read_csv('gdp_per_capita.csv', index_col='Country')\n",
    "\n",
    "# The following code creates a Pandas Series for each variable for the United States.\n",
    "# You can change the string 'United States' to a country of your choice.\n",
    "\n",
    "employment_in = employment.loc['India']\n",
    "female_completion_us = female_completion.loc['United States']\n",
    "male_completion_in = male_completion.loc['India']\n",
    "life_expectancy_in = life_expectancy.loc['India']\n",
    "gdp_in = gdp.loc['India']\n",
    "\n",
    "# Uncomment the following line of code to see the available country names\n",
    "#print employment.index.values\n",
    "\n",
    "# Use the Series defined above to create a plot of each variable over time for\n",
    "# the country of your choice. You will only be able to display one plot at a time\n",
    "# with each \"Test Run\"."
   ]
  },
  {
   "cell_type": "code",
   "execution_count": 166,
   "metadata": {
    "collapsed": false
   },
   "outputs": [
    {
     "data": {
      "text/plain": [
       "<matplotlib.axes._subplots.AxesSubplot at 0x7f67e1306190>"
      ]
     },
     "execution_count": 166,
     "metadata": {},
     "output_type": "execute_result"
    },
    {
     "data": {
      "image/png": "[encoded data removed]",
      "text/plain": [
       "<matplotlib.figure.Figure at 0x7f67e11ddad0>"
      ]
     },
     "metadata": {},
     "output_type": "display_data"
    }
   ],
   "source": [
    "employment_in.hist()"
   ]
  },
  {
   "cell_type": "code",
   "execution_count": 174,
   "metadata": {
    "collapsed": false
   },
   "outputs": [
    {
     "data": {
      "text/plain": [
       "<matplotlib.axes._subplots.AxesSubplot at 0x7f67b7710f90>"
      ]
     },
     "execution_count": 174,
     "metadata": {},
     "output_type": "execute_result"
    },
    {
     "data": {
      "image/png": "[encoded data removed]",
      "text/plain": [
       "<matplotlib.figure.Figure at 0x7f67b7703c10>"
      ]
     },
     "metadata": {},
     "output_type": "display_data"
    }
   ],
   "source": [
    "female_completion_us.hist()"
   ]
  },
  {
   "cell_type": "code",
   "execution_count": 175,
   "metadata": {
    "collapsed": false
   },
   "outputs": [
    {
     "data": {
      "text/plain": [
       "<matplotlib.axes._subplots.AxesSubplot at 0x7f67b76ce790>"
      ]
     },
     "execution_count": 175,
     "metadata": {},
     "output_type": "execute_result"
    },
    {
     "data": {
      "image/png": "[encoded data removed]",
      "text/plain": [
       "<matplotlib.figure.Figure at 0x7f67b7703c90>"
      ]
     },
     "metadata": {},
     "output_type": "display_data"
    }
   ],
   "source": [
    "male_completion_in.hist()"
   ]
  },
  {
   "cell_type": "code",
   "execution_count": 176,
   "metadata": {
    "collapsed": false
   },
   "outputs": [
    {
     "data": {
      "text/plain": [
       "<matplotlib.axes._subplots.AxesSubplot at 0x7f67b764af10>"
      ]
     },
     "execution_count": 176,
     "metadata": {},
     "output_type": "execute_result"
    },
    {
     "data": {
      "image/png": "[encoded data removed]",
      "text/plain": [
       "<matplotlib.figure.Figure at 0x7f67b7654790>"
      ]
     },
     "metadata": {},
     "output_type": "display_data"
    }
   ],
   "source": [
    "life_expectancy_in.hist()"
   ]
  },
  {
   "cell_type": "code",
   "execution_count": 177,
   "metadata": {
    "collapsed": false
   },
   "outputs": [
    {
     "data": {
      "text/plain": [
       "<matplotlib.axes._subplots.AxesSubplot at 0x7f67b75aaf10>"
      ]
     },
     "execution_count": 177,
     "metadata": {},
     "output_type": "execute_result"
    },
    {
     "data": {
      "image/png": "[encoded data removed]",
      "text/plain": [
       "<matplotlib.figure.Figure at 0x7f67b758a5d0>"
      ]
     },
     "metadata": {},
     "output_type": "display_data"
    }
   ],
   "source": [
    "gdp_in.hist()"
   ]
  }
 ],
 "metadata": {
  "kernelspec": {
   "display_name": "Python 2",
   "language": "python",
   "name": "python2"
  },
  "language_info": {
   "codemirror_mode": {
    "name": "ipython",
    "version": 2
   },
   "file_extension": ".py",
   "mimetype": "text/x-python",
   "name": "python",
   "nbconvert_exporter": "python",
   "pygments_lexer": "ipython2",
   "version": "2.7.11"
  }
 },
 "nbformat": 4,
 "nbformat_minor": 0
}
